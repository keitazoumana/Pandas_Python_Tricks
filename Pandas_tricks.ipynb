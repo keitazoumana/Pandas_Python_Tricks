{
 "cells": [
  {
   "cell_type": "markdown",
   "id": "931e6283-f0cd-4cce-b4f2-6155f14288a2",
   "metadata": {},
   "source": [
    "# 2 Life Saving Pandas Tricks"
   ]
  },
  {
   "cell_type": "code",
   "execution_count": 36,
   "id": "bb15f0dd-8aaf-4fc6-aeeb-5bd12beff4ce",
   "metadata": {},
   "outputs": [
    {
     "data": {
      "text/html": [
       "<div>\n",
       "<style scoped>\n",
       "    .dataframe tbody tr th:only-of-type {\n",
       "        vertical-align: middle;\n",
       "    }\n",
       "\n",
       "    .dataframe tbody tr th {\n",
       "        vertical-align: top;\n",
       "    }\n",
       "\n",
       "    .dataframe thead th {\n",
       "        text-align: right;\n",
       "    }\n",
       "</style>\n",
       "<table border=\"1\" class=\"dataframe\">\n",
       "  <thead>\n",
       "    <tr style=\"text-align: right;\">\n",
       "      <th></th>\n",
       "      <th>Name</th>\n",
       "      <th>Degree</th>\n",
       "      <th>From</th>\n",
       "      <th>Years_exp</th>\n",
       "      <th>From_office(min)</th>\n",
       "      <th>Application_date</th>\n",
       "    </tr>\n",
       "  </thead>\n",
       "  <tbody>\n",
       "    <tr>\n",
       "      <th>0</th>\n",
       "      <td>Aida</td>\n",
       "      <td>Master</td>\n",
       "      <td>Abidjan</td>\n",
       "      <td>2</td>\n",
       "      <td>120</td>\n",
       "      <td>11/17/2022</td>\n",
       "    </tr>\n",
       "    <tr>\n",
       "      <th>1</th>\n",
       "      <td>Mamadou</td>\n",
       "      <td>Master</td>\n",
       "      <td>Dakar</td>\n",
       "      <td>3</td>\n",
       "      <td>95</td>\n",
       "      <td>09/23/2022</td>\n",
       "    </tr>\n",
       "    <tr>\n",
       "      <th>2</th>\n",
       "      <td>Ismael</td>\n",
       "      <td>Bachelor</td>\n",
       "      <td>Bamako</td>\n",
       "      <td>0</td>\n",
       "      <td>75</td>\n",
       "      <td>12/2/2021</td>\n",
       "    </tr>\n",
       "    <tr>\n",
       "      <th>3</th>\n",
       "      <td>Aicha</td>\n",
       "      <td>PhD</td>\n",
       "      <td>Abidjan</td>\n",
       "      <td>5</td>\n",
       "      <td>80</td>\n",
       "      <td>08/25/2022</td>\n",
       "    </tr>\n",
       "    <tr>\n",
       "      <th>4</th>\n",
       "      <td>Fatou</td>\n",
       "      <td>Master</td>\n",
       "      <td>Konakry</td>\n",
       "      <td>4</td>\n",
       "      <td>100</td>\n",
       "      <td>01/07/2022</td>\n",
       "    </tr>\n",
       "    <tr>\n",
       "      <th>5</th>\n",
       "      <td>Khalil</td>\n",
       "      <td>PhD</td>\n",
       "      <td>Lomé</td>\n",
       "      <td>3</td>\n",
       "      <td>34</td>\n",
       "      <td>12/26/2022</td>\n",
       "    </tr>\n",
       "  </tbody>\n",
       "</table>\n",
       "</div>"
      ],
      "text/plain": [
       "      Name    Degree     From  Years_exp  From_office(min) Application_date\n",
       "0     Aida    Master  Abidjan          2               120       11/17/2022\n",
       "1  Mamadou    Master    Dakar          3                95       09/23/2022\n",
       "2   Ismael  Bachelor   Bamako          0                75        12/2/2021\n",
       "3    Aicha       PhD  Abidjan          5                80       08/25/2022\n",
       "4    Fatou    Master  Konakry          4               100       01/07/2022\n",
       "5   Khalil       PhD     Lomé          3                34       12/26/2022"
      ]
     },
     "execution_count": 36,
     "metadata": {},
     "output_type": "execute_result"
    }
   ],
   "source": [
    "import pandas as pd \n",
    "candidates_df = pd.read_csv(\"candidates.csv\")\n",
    "candidates_df"
   ]
  },
  {
   "cell_type": "code",
   "execution_count": 37,
   "id": "d72ec0f5-13fb-4a1c-942c-7a7a803fff37",
   "metadata": {},
   "outputs": [
    {
     "data": {
      "text/plain": [
       "Name                object\n",
       "Degree              object\n",
       "From                object\n",
       "Years_exp            int64\n",
       "From_office(min)     int64\n",
       "Application_date    object\n",
       "dtype: object"
      ]
     },
     "execution_count": 37,
     "metadata": {},
     "output_type": "execute_result"
    }
   ],
   "source": [
    "candidates_df.dtypes"
   ]
  },
  {
   "cell_type": "markdown",
   "id": "cf4239b5-90ea-427c-878e-dc919c543678",
   "metadata": {},
   "source": [
    "## Format Date Column"
   ]
  },
  {
   "cell_type": "code",
   "execution_count": 38,
   "id": "a5fd31a0-65a0-4a44-9e18-79e256be338e",
   "metadata": {},
   "outputs": [
    {
     "data": {
      "text/plain": [
       "Name                        object\n",
       "Degree                      object\n",
       "From                        object\n",
       "Years_exp                    int64\n",
       "From_office(min)             int64\n",
       "Application_date    datetime64[ns]\n",
       "dtype: object"
      ]
     },
     "execution_count": 38,
     "metadata": {},
     "output_type": "execute_result"
    }
   ],
   "source": [
    "candidates_df = pd.read_csv(\"candidates.csv\", parse_dates = [\"Application_date\"])\n",
    "candidates_df.dtypes"
   ]
  },
  {
   "cell_type": "code",
   "execution_count": null,
   "id": "6788820b-3f44-48fb-8a74-62bd7cd215b3",
   "metadata": {},
   "outputs": [],
   "source": []
  },
  {
   "cell_type": "markdown",
   "id": "23864137-17d4-4027-bad6-0a44a2546aed",
   "metadata": {},
   "source": [
    "## SQL - Like Query"
   ]
  },
  {
   "cell_type": "code",
   "execution_count": 39,
   "id": "4555db5a-457f-47c0-8e32-65edda75c233",
   "metadata": {},
   "outputs": [
    {
     "data": {
      "text/html": [
       "<div>\n",
       "<style scoped>\n",
       "    .dataframe tbody tr th:only-of-type {\n",
       "        vertical-align: middle;\n",
       "    }\n",
       "\n",
       "    .dataframe tbody tr th {\n",
       "        vertical-align: top;\n",
       "    }\n",
       "\n",
       "    .dataframe thead th {\n",
       "        text-align: right;\n",
       "    }\n",
       "</style>\n",
       "<table border=\"1\" class=\"dataframe\">\n",
       "  <thead>\n",
       "    <tr style=\"text-align: right;\">\n",
       "      <th></th>\n",
       "      <th>Name</th>\n",
       "      <th>Degree</th>\n",
       "      <th>From</th>\n",
       "      <th>Years_exp</th>\n",
       "      <th>From_office(min)</th>\n",
       "      <th>Application_date</th>\n",
       "    </tr>\n",
       "  </thead>\n",
       "  <tbody>\n",
       "    <tr>\n",
       "      <th>0</th>\n",
       "      <td>Aida</td>\n",
       "      <td>Master</td>\n",
       "      <td>Abidjan</td>\n",
       "      <td>2</td>\n",
       "      <td>120</td>\n",
       "      <td>2022-11-17</td>\n",
       "    </tr>\n",
       "    <tr>\n",
       "      <th>1</th>\n",
       "      <td>Mamadou</td>\n",
       "      <td>Master</td>\n",
       "      <td>Dakar</td>\n",
       "      <td>3</td>\n",
       "      <td>95</td>\n",
       "      <td>2022-09-23</td>\n",
       "    </tr>\n",
       "    <tr>\n",
       "      <th>4</th>\n",
       "      <td>Fatou</td>\n",
       "      <td>Master</td>\n",
       "      <td>Konakry</td>\n",
       "      <td>4</td>\n",
       "      <td>100</td>\n",
       "      <td>2022-01-07</td>\n",
       "    </tr>\n",
       "  </tbody>\n",
       "</table>\n",
       "</div>"
      ],
      "text/plain": [
       "      Name  Degree     From  Years_exp  From_office(min) Application_date\n",
       "0     Aida  Master  Abidjan          2               120       2022-11-17\n",
       "1  Mamadou  Master    Dakar          3                95       2022-09-23\n",
       "4    Fatou  Master  Konakry          4               100       2022-01-07"
      ]
     },
     "execution_count": 39,
     "metadata": {},
     "output_type": "execute_result"
    }
   ],
   "source": [
    "# Get all the candidates with a Master degree\n",
    "ms_candidates = candidates_df.query(\"Degree == 'Master'\")\n",
    "ms_candidates"
   ]
  },
  {
   "cell_type": "code",
   "execution_count": 40,
   "id": "1d3a0ab9-e397-40db-ae8d-e44bbf4302e3",
   "metadata": {},
   "outputs": [
    {
     "data": {
      "text/html": [
       "<div>\n",
       "<style scoped>\n",
       "    .dataframe tbody tr th:only-of-type {\n",
       "        vertical-align: middle;\n",
       "    }\n",
       "\n",
       "    .dataframe tbody tr th {\n",
       "        vertical-align: top;\n",
       "    }\n",
       "\n",
       "    .dataframe thead th {\n",
       "        text-align: right;\n",
       "    }\n",
       "</style>\n",
       "<table border=\"1\" class=\"dataframe\">\n",
       "  <thead>\n",
       "    <tr style=\"text-align: right;\">\n",
       "      <th></th>\n",
       "      <th>Name</th>\n",
       "      <th>Degree</th>\n",
       "      <th>From</th>\n",
       "      <th>Years_exp</th>\n",
       "      <th>From_office(min)</th>\n",
       "      <th>Application_date</th>\n",
       "    </tr>\n",
       "  </thead>\n",
       "  <tbody>\n",
       "    <tr>\n",
       "      <th>0</th>\n",
       "      <td>Aida</td>\n",
       "      <td>Master</td>\n",
       "      <td>Abidjan</td>\n",
       "      <td>2</td>\n",
       "      <td>120</td>\n",
       "      <td>2022-11-17</td>\n",
       "    </tr>\n",
       "    <tr>\n",
       "      <th>1</th>\n",
       "      <td>Mamadou</td>\n",
       "      <td>Master</td>\n",
       "      <td>Dakar</td>\n",
       "      <td>3</td>\n",
       "      <td>95</td>\n",
       "      <td>2022-09-23</td>\n",
       "    </tr>\n",
       "    <tr>\n",
       "      <th>3</th>\n",
       "      <td>Aicha</td>\n",
       "      <td>PhD</td>\n",
       "      <td>Abidjan</td>\n",
       "      <td>5</td>\n",
       "      <td>80</td>\n",
       "      <td>2022-08-25</td>\n",
       "    </tr>\n",
       "  </tbody>\n",
       "</table>\n",
       "</div>"
      ],
      "text/plain": [
       "      Name  Degree     From  Years_exp  From_office(min) Application_date\n",
       "0     Aida  Master  Abidjan          2               120       2022-11-17\n",
       "1  Mamadou  Master    Dakar          3                95       2022-09-23\n",
       "3    Aicha     PhD  Abidjan          5                80       2022-08-25"
      ]
     },
     "execution_count": 40,
     "metadata": {},
     "output_type": "execute_result"
    }
   ],
   "source": [
    "# Get values from list\n",
    "list_locations = [\"Abidjan\", \"Dakar\"]\n",
    "candiates = candidates_df.query(\"From in @list_locations\")\n",
    "candiates"
   ]
  },
  {
   "cell_type": "code",
   "execution_count": null,
   "id": "6683f809-3131-4cfd-bda0-f580b87d64a4",
   "metadata": {},
   "outputs": [],
   "source": []
  }
 ],
 "metadata": {
  "kernelspec": {
   "display_name": "ner_env",
   "language": "python",
   "name": "ner_env"
  },
  "language_info": {
   "codemirror_mode": {
    "name": "ipython",
    "version": 3
   },
   "file_extension": ".py",
   "mimetype": "text/x-python",
   "name": "python",
   "nbconvert_exporter": "python",
   "pygments_lexer": "ipython3",
   "version": "3.9.15"
  },
  "toc-autonumbering": false,
  "toc-showcode": false,
  "toc-showtags": false
 },
 "nbformat": 4,
 "nbformat_minor": 5
}
